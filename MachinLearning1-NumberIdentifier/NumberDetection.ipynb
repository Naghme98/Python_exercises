{
 "cells": [
  {
   "cell_type": "code",
   "execution_count": 1,
   "metadata": {
    "colab": {},
    "colab_type": "code",
    "id": "6j63V673ze-M"
   },
   "outputs": [],
   "source": [
    "import cv2\n",
    "import matplotlib.pyplot as plt\n",
    "import numpy as np\n",
    "from PIL import Image\n",
    "import glob\n",
    "from sklearn import svm\n",
    "from sklearn.model_selection import train_test_split"
   ]
  },
  {
   "cell_type": "markdown",
   "metadata": {
    "colab_type": "text",
    "id": "u5N9xpVMzl68"
   },
   "source": [
    "## Read Data"
   ]
  },
  {
   "cell_type": "code",
   "execution_count": 2,
   "metadata": {
    "colab": {},
    "colab_type": "code",
    "id": "g4nLcKjozjB3"
   },
   "outputs": [],
   "source": [
    "# map from content (1, 2, 5) to image\n",
    "imgs = {}\n",
    "imgs['1'] = []\n",
    "imgs['2'] = []\n",
    "imgs['5'] = []"
   ]
  },
  {
   "cell_type": "code",
   "execution_count": 3,
   "metadata": {
    "colab": {},
    "colab_type": "code",
    "id": "W8Qqc9sWztGa"
   },
   "outputs": [],
   "source": [
    "def getNumberFromAddress(addr):\n",
    "  return addr[addr.rfind('/')+1]\n",
    "\n",
    "def readImg(addr):\n",
    "  return np.array(Image.open(addr))\n",
    "\n",
    "addresses = glob.glob(\"./HodaSmallSubset/*.png\") \n",
    "for addr in addresses:\n",
    "    num = getNumberFromAddress(addr)\n",
    "    imgs[num].append(readImg(addr))"
   ]
  },
  {
   "cell_type": "markdown",
   "metadata": {
    "colab_type": "text",
    "id": "2PrHb6uRzvJL"
   },
   "source": [
    "## Learn"
   ]
  },
  {
   "cell_type": "code",
   "execution_count": 4,
   "metadata": {
    "colab": {},
    "colab_type": "code",
    "id": "h1B8rN3TzxGm"
   },
   "outputs": [],
   "source": [
    "X = []\n",
    "y = []\n",
    "hog = cv2.HOGDescriptor()\n",
    "\n",
    "def description(img):\n",
    "  res = cv2.resize(img, (64, 128))\n",
    "  h = hog.compute(res)\n",
    "  x = h.flatten()\n",
    "  return x\n",
    "\n",
    "\n",
    "for img in imgs['1']:\n",
    "  desc = description(img)\n",
    "  X.append(desc)\n",
    "  y.append(0)\n",
    "\n",
    "for img in imgs['2']:\n",
    "  desc = description(img)\n",
    "  X.append(desc)\n",
    "  y.append(1)\n",
    "\n",
    "for img in imgs['5']:\n",
    "  desc = description(img)\n",
    "  X.append(desc)\n",
    "  y.append(2)"
   ]
  },
  {
   "cell_type": "code",
   "execution_count": 5,
   "metadata": {
    "colab": {},
    "colab_type": "code",
    "id": "4zA-S95F0GjF"
   },
   "outputs": [],
   "source": [
    "X_train, X_test, y_train, y_test = train_test_split(X, y, test_size = 0.2)"
   ]
  },
  {
   "cell_type": "code",
   "execution_count": 6,
   "metadata": {
    "colab": {
     "base_uri": "https://localhost:8080/",
     "height": 85
    },
    "colab_type": "code",
    "id": "69KwJFK-0HaF",
    "outputId": "cda350f2-cccc-42a0-ad7e-08292e731d91"
   },
   "outputs": [
    {
     "data": {
      "text/plain": [
       "SVC(C=1.0, break_ties=False, cache_size=200, class_weight=None, coef0=0.0,\n",
       "    decision_function_shape='ovr', degree=3, gamma='scale', kernel='rbf',\n",
       "    max_iter=-1, probability=False, random_state=None, shrinking=True,\n",
       "    tol=0.001, verbose=False)"
      ]
     },
     "execution_count": 6,
     "metadata": {},
     "output_type": "execute_result"
    }
   ],
   "source": [
    "clf = svm.SVC()\n",
    "clf.fit(X_train, y_train)"
   ]
  },
  {
   "cell_type": "markdown",
   "metadata": {
    "colab_type": "text",
    "id": "YE85Ugqc0KQe"
   },
   "source": [
    "## Test"
   ]
  },
  {
   "cell_type": "code",
   "execution_count": 7,
   "metadata": {
    "colab": {
     "base_uri": "https://localhost:8080/",
     "height": 34
    },
    "colab_type": "code",
    "id": "0Tl2UUtJ0JSd",
    "outputId": "9d5d0f42-7952-4119-baac-ea61d986b683"
   },
   "outputs": [
    {
     "name": "stdout",
     "output_type": "stream",
     "text": [
      "100.0\n"
     ]
    }
   ],
   "source": [
    "correct = 0\n",
    "test_pred = clf.predict(X_test)\n",
    "for i in range(len(y_test)):\n",
    "  if y_test[i] == test_pred[i]:\n",
    "    correct += 1\n",
    "\n",
    "accuracy = correct * 100.0 / len(y_test)\n",
    "print(accuracy)"
   ]
  }
 ],
 "metadata": {
  "colab": {
   "collapsed_sections": [],
   "name": "NumberDetection.ipynb",
   "provenance": [],
   "toc_visible": true
  },
  "kernelspec": {
   "display_name": "Python 3",
   "language": "python",
   "name": "python3"
  },
  "language_info": {
   "codemirror_mode": {
    "name": "ipython",
    "version": 3
   },
   "file_extension": ".py",
   "mimetype": "text/x-python",
   "name": "python",
   "nbconvert_exporter": "python",
   "pygments_lexer": "ipython3",
   "version": "3.7.1"
  }
 },
 "nbformat": 4,
 "nbformat_minor": 1
}
